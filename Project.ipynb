{
  "nbformat": 4,
  "nbformat_minor": 0,
  "metadata": {
    "colab": {
      "name": "Project",
      "provenance": [],
      "collapsed_sections": []
    },
    "kernelspec": {
      "name": "python3",
      "display_name": "Python 3"
    }
  },
  "cells": [
    {
      "cell_type": "code",
      "metadata": {
        "id": "SrnZfVDOYDAZ",
        "colab_type": "code",
        "colab": {}
      },
      "source": [
        "## Importing libraries\n",
        "import matplotlib.pyplot as plt\n",
        "import pandas as pd\n",
        "import numpy as np\n",
        "import seaborn as sns\n",
        "import matplotlib.image as mpl"
      ],
      "execution_count": 0,
      "outputs": []
    },
    {
      "cell_type": "markdown",
      "metadata": {
        "id": "My-ggDfzuuyr",
        "colab_type": "text"
      },
      "source": [
        "# **Dataset Information**\n",
        "\n",
        "The dataset used in this project was acquired from UCI machine learning repository. The dataset is a record of 30,000 customers and their credit card payment information over six months (April to September). The dataset contains 30,000 rows excluding the column headers and 24 columns. All currency is in $NT. The data contains no missing value.\n",
        "\n",
        "# **Columns**\n",
        "**LIMIT_BAL** - renamed CREDIT LIMIT(NT$) for the purpose of this analysis. It is the amount given as credit to the customer.it includes both the individual consumer credit and his/her family (supplementary) credit. \n",
        "\n",
        "**SEX** - renamed GENDER for the purpose of this analysis. It represents the gender of the credit card holder. The column contains numerical values (1 = male, 2 = female).\n",
        "\n",
        "**EDUCATION** - The column represents the education level of the credit card holder. The column contains numerical values (1 = graduate school, 2 = university, 3 = high school, 4 = others). \n",
        "\n",
        "**MARITAL STATUS** - The column represents the marital status of the credit card holder. The column contains numerical values (1 = married, 2 = single, 3 = others).\n",
        "\n",
        "**AGE** - The column represents the age of the credit card holder. The column contains numerical values\n",
        "\n",
        "**REPAYMENT STATUS** - recorded over six columns, with each representing a month (from April to September 2005). it states the history of past payment. \n",
        "\n",
        "PAY_0 = the repayment status in September, 2005; PAY_2= the repayment status in August, 2005; . . .;PAY_6 = the repayment status in April, 2005. \n",
        "\n",
        "Measurement Scale\n",
        "\n",
        "\n",
        "---\n",
        "\n",
        "\n",
        "The measurement scale for the repayment status is: \n",
        "-2 = no consumption,\n",
        "-1 = pay duly,\n",
        "0  = Use of revolving credit,\n",
        " 1 = payment delay for one month,\n",
        " 2 = payment delay for two months; . . .; \n",
        " 8 = payment delay for eight months,\n",
        " 9 = payment delay for nine months and above. \n",
        "\n",
        "**BILL STATEMENT** -  - recorded over six columns with each representing a month (from April to September 2005). it states the history of the monthly bill amount in NT($). \n",
        "\n",
        "BILL_AMT1 = amount of bill statement in September, 2005; BILL_AMT2 = amount of bill statement in August, 2005; . . .; BILL_AMT6 = amount of bill statement in April, 2005. \n",
        "                          \n",
        "**AMOUNT OF PREVIOUS PAYMENT** - recorded over six columns with each representing a month (from April to September 2005). it states the history of the amount paid by each customer in NT($).  \n",
        "\n",
        "PAY_AMT1 = amount paid in September, 2005; PAY_AMT2 = amount paid in August, 2005; . . .;PAY_AMT6 = amount paid in April, 2005.         \n",
        "\n",
        "# **Purpose**\n",
        "\n",
        "The Purpose of this analysis is to use machine learning and predictive algorithm to determin whether given certain characteristics a customer will be more likely to default on their credit card payment in the next month. Part 1 of the project will contain some descriptive analysis. This is done to provide indept understanding and to see trends based on historical data that could set a foundation for Part 2 ( predictive analysis). In part 2, logistic regression method and Decision tree method will both be used for the machine learning for our predictive model. Next a confusion matrix will be used on both regression type, and an ROC (receiver operating characteristic) curve will be created. Finally, part 3 will contain prescriptive analysis. all prescription would be suggested based on the results from part 1 and 2.\n",
        "\n",
        "    Note: For the prescriptive analysis a User Interface will be created that would allow users to input answers to questions from the dataset. the predictive algorithm would then suggest if a credit card should be granted to the customer. \n",
        "    This dataset does not contain credit score of the customer. The credit score of the customer is a great indicator of their credit worthiness, therefore we will only rely on the information provided in the dataset.\n",
        "\n",
        "\n",
        "\n"
      ]
    },
    {
      "cell_type": "markdown",
      "metadata": {
        "id": "hqCM6O2xtIDX",
        "colab_type": "text"
      },
      "source": [
        ""
      ]
    },
    {
      "cell_type": "markdown",
      "metadata": {
        "id": "BxOKS2iatHS_",
        "colab_type": "text"
      },
      "source": [
        ""
      ]
    },
    {
      "cell_type": "markdown",
      "metadata": {
        "id": "jJXe9xDVljxV",
        "colab_type": "text"
      },
      "source": [
        "# Cleaning and dataset Transformation\n",
        "\n"
      ]
    },
    {
      "cell_type": "code",
      "metadata": {
        "id": "5ZCLcbA6YFK2",
        "colab_type": "code",
        "outputId": "472eb41b-e65c-4c1e-edb6-7a05abc03792",
        "colab": {
          "resources": {
            "http://localhost:8080/nbextensions/google.colab/files.js": {
              "data": "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",
              "ok": true,
              "headers": [
                [
                  "content-type",
                  "application/javascript"
                ]
              ],
              "status": 200,
              "status_text": ""
            }
          },
          "base_uri": "https://localhost:8080/",
          "height": 40
        }
      },
      "source": [
        "from google.colab import files\n",
        "uploaded = files.upload()"
      ],
      "execution_count": 0,
      "outputs": [
        {
          "output_type": "display_data",
          "data": {
            "text/html": [
              "\n",
              "     <input type=\"file\" id=\"files-5a04035b-8cc5-47cf-9ced-06ca0d1a9365\" name=\"files[]\" multiple disabled />\n",
              "     <output id=\"result-5a04035b-8cc5-47cf-9ced-06ca0d1a9365\">\n",
              "      Upload widget is only available when the cell has been executed in the\n",
              "      current browser session. Please rerun this cell to enable.\n",
              "      </output>\n",
              "      <script src=\"/nbextensions/google.colab/files.js\"></script> "
            ],
            "text/plain": [
              "<IPython.core.display.HTML object>"
            ]
          },
          "metadata": {
            "tags": []
          }
        }
      ]
    },
    {
      "cell_type": "code",
      "metadata": {
        "id": "uXF1AfkF6Yqq",
        "colab_type": "code",
        "outputId": "f057394d-a72c-44f4-f3a0-f92dff79c145",
        "colab": {
          "base_uri": "https://localhost:8080/",
          "height": 214
        }
      },
      "source": [
        "# this cell imports my dataset \n",
        "import io\n",
        "df = pd.read_excel(io.BytesIO(uploaded['Creditcard.xlsx']), skiprows=1)\n",
        "#Dataset is now stored in a Pandas Dataframe\n",
        "df"
      ],
      "execution_count": 0,
      "outputs": [
        {
          "output_type": "error",
          "ename": "NameError",
          "evalue": "ignored",
          "traceback": [
            "\u001b[0;31m---------------------------------------------------------------------------\u001b[0m",
            "\u001b[0;31mNameError\u001b[0m                                 Traceback (most recent call last)",
            "\u001b[0;32m<ipython-input-4-bb5bebd4f736>\u001b[0m in \u001b[0;36m<module>\u001b[0;34m()\u001b[0m\n\u001b[1;32m      1\u001b[0m \u001b[0;32mimport\u001b[0m \u001b[0mio\u001b[0m\u001b[0;34m\u001b[0m\u001b[0;34m\u001b[0m\u001b[0m\n\u001b[0;32m----> 2\u001b[0;31m \u001b[0mdf\u001b[0m \u001b[0;34m=\u001b[0m \u001b[0mpd\u001b[0m\u001b[0;34m.\u001b[0m\u001b[0mread_excel\u001b[0m\u001b[0;34m(\u001b[0m\u001b[0mio\u001b[0m\u001b[0;34m.\u001b[0m\u001b[0mBytesIO\u001b[0m\u001b[0;34m(\u001b[0m\u001b[0muploaded\u001b[0m\u001b[0;34m[\u001b[0m\u001b[0;34m'Creditcard.xlsx'\u001b[0m\u001b[0;34m]\u001b[0m\u001b[0;34m)\u001b[0m\u001b[0;34m,\u001b[0m \u001b[0mskiprows\u001b[0m\u001b[0;34m=\u001b[0m\u001b[0;36m1\u001b[0m\u001b[0;34m)\u001b[0m\u001b[0;34m\u001b[0m\u001b[0;34m\u001b[0m\u001b[0m\n\u001b[0m\u001b[1;32m      3\u001b[0m \u001b[0;31m#Dataset is now stored in a Pandas Dataframe\u001b[0m\u001b[0;34m\u001b[0m\u001b[0;34m\u001b[0m\u001b[0;34m\u001b[0m\u001b[0m\n\u001b[1;32m      4\u001b[0m \u001b[0mdf\u001b[0m\u001b[0;34m\u001b[0m\u001b[0;34m\u001b[0m\u001b[0m\n",
            "\u001b[0;31mNameError\u001b[0m: name 'uploaded' is not defined"
          ]
        }
      ]
    },
    {
      "cell_type": "code",
      "metadata": {
        "colab_type": "code",
        "id": "xPR8jR9OGa5a",
        "outputId": "5a4a52d3-2d29-4c9d-e3da-181e6c8d0ac4",
        "colab": {
          "base_uri": "https://localhost:8080/",
          "height": 490
        }
      },
      "source": [
        "# This cell deletes the \"ID\" column. \n",
        "df.drop(['ID'], inplace = True, axis=1)\n",
        "\n",
        "df "
      ],
      "execution_count": 0,
      "outputs": [
        {
          "output_type": "execute_result",
          "data": {
            "text/html": [
              "<div>\n",
              "<style scoped>\n",
              "    .dataframe tbody tr th:only-of-type {\n",
              "        vertical-align: middle;\n",
              "    }\n",
              "\n",
              "    .dataframe tbody tr th {\n",
              "        vertical-align: top;\n",
              "    }\n",
              "\n",
              "    .dataframe thead th {\n",
              "        text-align: right;\n",
              "    }\n",
              "</style>\n",
              "<table border=\"1\" class=\"dataframe\">\n",
              "  <thead>\n",
              "    <tr style=\"text-align: right;\">\n",
              "      <th></th>\n",
              "      <th>LIMIT_BAL</th>\n",
              "      <th>SEX</th>\n",
              "      <th>EDUCATION</th>\n",
              "      <th>MARRIAGE</th>\n",
              "      <th>AGE</th>\n",
              "      <th>PAY_0</th>\n",
              "      <th>PAY_2</th>\n",
              "      <th>PAY_3</th>\n",
              "      <th>PAY_4</th>\n",
              "      <th>PAY_5</th>\n",
              "      <th>PAY_6</th>\n",
              "      <th>BILL_AMT1</th>\n",
              "      <th>BILL_AMT2</th>\n",
              "      <th>BILL_AMT3</th>\n",
              "      <th>BILL_AMT4</th>\n",
              "      <th>BILL_AMT5</th>\n",
              "      <th>BILL_AMT6</th>\n",
              "      <th>PAY_AMT1</th>\n",
              "      <th>PAY_AMT2</th>\n",
              "      <th>PAY_AMT3</th>\n",
              "      <th>PAY_AMT4</th>\n",
              "      <th>PAY_AMT5</th>\n",
              "      <th>PAY_AMT6</th>\n",
              "      <th>default payment next month</th>\n",
              "    </tr>\n",
              "  </thead>\n",
              "  <tbody>\n",
              "    <tr>\n",
              "      <th>0</th>\n",
              "      <td>20000</td>\n",
              "      <td>2</td>\n",
              "      <td>2</td>\n",
              "      <td>1</td>\n",
              "      <td>24</td>\n",
              "      <td>2</td>\n",
              "      <td>2</td>\n",
              "      <td>-1</td>\n",
              "      <td>-1</td>\n",
              "      <td>-2</td>\n",
              "      <td>-2</td>\n",
              "      <td>3913</td>\n",
              "      <td>3102</td>\n",
              "      <td>689</td>\n",
              "      <td>0</td>\n",
              "      <td>0</td>\n",
              "      <td>0</td>\n",
              "      <td>0</td>\n",
              "      <td>689</td>\n",
              "      <td>0</td>\n",
              "      <td>0</td>\n",
              "      <td>0</td>\n",
              "      <td>0</td>\n",
              "      <td>1</td>\n",
              "    </tr>\n",
              "    <tr>\n",
              "      <th>1</th>\n",
              "      <td>120000</td>\n",
              "      <td>2</td>\n",
              "      <td>2</td>\n",
              "      <td>2</td>\n",
              "      <td>26</td>\n",
              "      <td>-1</td>\n",
              "      <td>2</td>\n",
              "      <td>0</td>\n",
              "      <td>0</td>\n",
              "      <td>0</td>\n",
              "      <td>2</td>\n",
              "      <td>2682</td>\n",
              "      <td>1725</td>\n",
              "      <td>2682</td>\n",
              "      <td>3272</td>\n",
              "      <td>3455</td>\n",
              "      <td>3261</td>\n",
              "      <td>0</td>\n",
              "      <td>1000</td>\n",
              "      <td>1000</td>\n",
              "      <td>1000</td>\n",
              "      <td>0</td>\n",
              "      <td>2000</td>\n",
              "      <td>1</td>\n",
              "    </tr>\n",
              "    <tr>\n",
              "      <th>2</th>\n",
              "      <td>90000</td>\n",
              "      <td>2</td>\n",
              "      <td>2</td>\n",
              "      <td>2</td>\n",
              "      <td>34</td>\n",
              "      <td>0</td>\n",
              "      <td>0</td>\n",
              "      <td>0</td>\n",
              "      <td>0</td>\n",
              "      <td>0</td>\n",
              "      <td>0</td>\n",
              "      <td>29239</td>\n",
              "      <td>14027</td>\n",
              "      <td>13559</td>\n",
              "      <td>14331</td>\n",
              "      <td>14948</td>\n",
              "      <td>15549</td>\n",
              "      <td>1518</td>\n",
              "      <td>1500</td>\n",
              "      <td>1000</td>\n",
              "      <td>1000</td>\n",
              "      <td>1000</td>\n",
              "      <td>5000</td>\n",
              "      <td>0</td>\n",
              "    </tr>\n",
              "    <tr>\n",
              "      <th>3</th>\n",
              "      <td>50000</td>\n",
              "      <td>2</td>\n",
              "      <td>2</td>\n",
              "      <td>1</td>\n",
              "      <td>37</td>\n",
              "      <td>0</td>\n",
              "      <td>0</td>\n",
              "      <td>0</td>\n",
              "      <td>0</td>\n",
              "      <td>0</td>\n",
              "      <td>0</td>\n",
              "      <td>46990</td>\n",
              "      <td>48233</td>\n",
              "      <td>49291</td>\n",
              "      <td>28314</td>\n",
              "      <td>28959</td>\n",
              "      <td>29547</td>\n",
              "      <td>2000</td>\n",
              "      <td>2019</td>\n",
              "      <td>1200</td>\n",
              "      <td>1100</td>\n",
              "      <td>1069</td>\n",
              "      <td>1000</td>\n",
              "      <td>0</td>\n",
              "    </tr>\n",
              "    <tr>\n",
              "      <th>4</th>\n",
              "      <td>50000</td>\n",
              "      <td>1</td>\n",
              "      <td>2</td>\n",
              "      <td>1</td>\n",
              "      <td>57</td>\n",
              "      <td>-1</td>\n",
              "      <td>0</td>\n",
              "      <td>-1</td>\n",
              "      <td>0</td>\n",
              "      <td>0</td>\n",
              "      <td>0</td>\n",
              "      <td>8617</td>\n",
              "      <td>5670</td>\n",
              "      <td>35835</td>\n",
              "      <td>20940</td>\n",
              "      <td>19146</td>\n",
              "      <td>19131</td>\n",
              "      <td>2000</td>\n",
              "      <td>36681</td>\n",
              "      <td>10000</td>\n",
              "      <td>9000</td>\n",
              "      <td>689</td>\n",
              "      <td>679</td>\n",
              "      <td>0</td>\n",
              "    </tr>\n",
              "    <tr>\n",
              "      <th>...</th>\n",
              "      <td>...</td>\n",
              "      <td>...</td>\n",
              "      <td>...</td>\n",
              "      <td>...</td>\n",
              "      <td>...</td>\n",
              "      <td>...</td>\n",
              "      <td>...</td>\n",
              "      <td>...</td>\n",
              "      <td>...</td>\n",
              "      <td>...</td>\n",
              "      <td>...</td>\n",
              "      <td>...</td>\n",
              "      <td>...</td>\n",
              "      <td>...</td>\n",
              "      <td>...</td>\n",
              "      <td>...</td>\n",
              "      <td>...</td>\n",
              "      <td>...</td>\n",
              "      <td>...</td>\n",
              "      <td>...</td>\n",
              "      <td>...</td>\n",
              "      <td>...</td>\n",
              "      <td>...</td>\n",
              "      <td>...</td>\n",
              "    </tr>\n",
              "    <tr>\n",
              "      <th>29995</th>\n",
              "      <td>220000</td>\n",
              "      <td>1</td>\n",
              "      <td>3</td>\n",
              "      <td>1</td>\n",
              "      <td>39</td>\n",
              "      <td>0</td>\n",
              "      <td>0</td>\n",
              "      <td>0</td>\n",
              "      <td>0</td>\n",
              "      <td>0</td>\n",
              "      <td>0</td>\n",
              "      <td>188948</td>\n",
              "      <td>192815</td>\n",
              "      <td>208365</td>\n",
              "      <td>88004</td>\n",
              "      <td>31237</td>\n",
              "      <td>15980</td>\n",
              "      <td>8500</td>\n",
              "      <td>20000</td>\n",
              "      <td>5003</td>\n",
              "      <td>3047</td>\n",
              "      <td>5000</td>\n",
              "      <td>1000</td>\n",
              "      <td>0</td>\n",
              "    </tr>\n",
              "    <tr>\n",
              "      <th>29996</th>\n",
              "      <td>150000</td>\n",
              "      <td>1</td>\n",
              "      <td>3</td>\n",
              "      <td>2</td>\n",
              "      <td>43</td>\n",
              "      <td>-1</td>\n",
              "      <td>-1</td>\n",
              "      <td>-1</td>\n",
              "      <td>-1</td>\n",
              "      <td>0</td>\n",
              "      <td>0</td>\n",
              "      <td>1683</td>\n",
              "      <td>1828</td>\n",
              "      <td>3502</td>\n",
              "      <td>8979</td>\n",
              "      <td>5190</td>\n",
              "      <td>0</td>\n",
              "      <td>1837</td>\n",
              "      <td>3526</td>\n",
              "      <td>8998</td>\n",
              "      <td>129</td>\n",
              "      <td>0</td>\n",
              "      <td>0</td>\n",
              "      <td>0</td>\n",
              "    </tr>\n",
              "    <tr>\n",
              "      <th>29997</th>\n",
              "      <td>30000</td>\n",
              "      <td>1</td>\n",
              "      <td>2</td>\n",
              "      <td>2</td>\n",
              "      <td>37</td>\n",
              "      <td>4</td>\n",
              "      <td>3</td>\n",
              "      <td>2</td>\n",
              "      <td>-1</td>\n",
              "      <td>0</td>\n",
              "      <td>0</td>\n",
              "      <td>3565</td>\n",
              "      <td>3356</td>\n",
              "      <td>2758</td>\n",
              "      <td>20878</td>\n",
              "      <td>20582</td>\n",
              "      <td>19357</td>\n",
              "      <td>0</td>\n",
              "      <td>0</td>\n",
              "      <td>22000</td>\n",
              "      <td>4200</td>\n",
              "      <td>2000</td>\n",
              "      <td>3100</td>\n",
              "      <td>1</td>\n",
              "    </tr>\n",
              "    <tr>\n",
              "      <th>29998</th>\n",
              "      <td>80000</td>\n",
              "      <td>1</td>\n",
              "      <td>3</td>\n",
              "      <td>1</td>\n",
              "      <td>41</td>\n",
              "      <td>1</td>\n",
              "      <td>-1</td>\n",
              "      <td>0</td>\n",
              "      <td>0</td>\n",
              "      <td>0</td>\n",
              "      <td>-1</td>\n",
              "      <td>-1645</td>\n",
              "      <td>78379</td>\n",
              "      <td>76304</td>\n",
              "      <td>52774</td>\n",
              "      <td>11855</td>\n",
              "      <td>48944</td>\n",
              "      <td>85900</td>\n",
              "      <td>3409</td>\n",
              "      <td>1178</td>\n",
              "      <td>1926</td>\n",
              "      <td>52964</td>\n",
              "      <td>1804</td>\n",
              "      <td>1</td>\n",
              "    </tr>\n",
              "    <tr>\n",
              "      <th>29999</th>\n",
              "      <td>50000</td>\n",
              "      <td>1</td>\n",
              "      <td>2</td>\n",
              "      <td>1</td>\n",
              "      <td>46</td>\n",
              "      <td>0</td>\n",
              "      <td>0</td>\n",
              "      <td>0</td>\n",
              "      <td>0</td>\n",
              "      <td>0</td>\n",
              "      <td>0</td>\n",
              "      <td>47929</td>\n",
              "      <td>48905</td>\n",
              "      <td>49764</td>\n",
              "      <td>36535</td>\n",
              "      <td>32428</td>\n",
              "      <td>15313</td>\n",
              "      <td>2078</td>\n",
              "      <td>1800</td>\n",
              "      <td>1430</td>\n",
              "      <td>1000</td>\n",
              "      <td>1000</td>\n",
              "      <td>1000</td>\n",
              "      <td>1</td>\n",
              "    </tr>\n",
              "  </tbody>\n",
              "</table>\n",
              "<p>30000 rows × 24 columns</p>\n",
              "</div>"
            ],
            "text/plain": [
              "       LIMIT_BAL  SEX  ...  PAY_AMT6  default payment next month\n",
              "0          20000    2  ...         0                           1\n",
              "1         120000    2  ...      2000                           1\n",
              "2          90000    2  ...      5000                           0\n",
              "3          50000    2  ...      1000                           0\n",
              "4          50000    1  ...       679                           0\n",
              "...          ...  ...  ...       ...                         ...\n",
              "29995     220000    1  ...      1000                           0\n",
              "29996     150000    1  ...         0                           0\n",
              "29997      30000    1  ...      3100                           1\n",
              "29998      80000    1  ...      1804                           1\n",
              "29999      50000    1  ...      1000                           1\n",
              "\n",
              "[30000 rows x 24 columns]"
            ]
          },
          "metadata": {
            "tags": []
          },
          "execution_count": 17
        }
      ]
    },
    {
      "cell_type": "code",
      "metadata": {
        "id": "wT9SUoaHW_RG",
        "colab_type": "code",
        "colab": {}
      },
      "source": [
        "# Rename sex and limit_bal columns\n",
        "df.rename(columns={\"SEX\":\"GENDER\", \"LIMIT_BAL\":\"CREDIT LIMIT(NT$)\"}, inplace=True)"
      ],
      "execution_count": 0,
      "outputs": []
    },
    {
      "cell_type": "code",
      "metadata": {
        "id": "W4MXeSDDn-AT",
        "colab_type": "code",
        "outputId": "29e8255f-aa60-401d-da0d-8f7ab4824cae",
        "colab": {
          "base_uri": "https://localhost:8080/",
          "height": 459
        }
      },
      "source": [
        "#this cell checks my dataset for any null values\n",
        "df.isnull().sum() / df.shape[0]   "
      ],
      "execution_count": 0,
      "outputs": [
        {
          "output_type": "execute_result",
          "data": {
            "text/plain": [
              "CREDIT LIMIT(NT$)             0.0\n",
              "GENDER                        0.0\n",
              "EDUCATION                     0.0\n",
              "MARRIAGE                      0.0\n",
              "AGE                           0.0\n",
              "PAY_0                         0.0\n",
              "PAY_2                         0.0\n",
              "PAY_3                         0.0\n",
              "PAY_4                         0.0\n",
              "PAY_5                         0.0\n",
              "PAY_6                         0.0\n",
              "Late Payments                 0.0\n",
              "BILL_AMT1                     0.0\n",
              "BILL_AMT2                     0.0\n",
              "BILL_AMT3                     0.0\n",
              "BILL_AMT4                     0.0\n",
              "BILL_AMT5                     0.0\n",
              "BILL_AMT6                     0.0\n",
              "PAY_AMT1                      0.0\n",
              "PAY_AMT2                      0.0\n",
              "PAY_AMT3                      0.0\n",
              "PAY_AMT4                      0.0\n",
              "PAY_AMT5                      0.0\n",
              "PAY_AMT6                      0.0\n",
              "default payment next month    0.0\n",
              "dtype: float64"
            ]
          },
          "metadata": {
            "tags": []
          },
          "execution_count": 47
        }
      ]
    },
    {
      "cell_type": "code",
      "metadata": {
        "id": "OqwyY0u4oSdx",
        "colab_type": "code",
        "outputId": "a22e9b6f-0b9d-4dbd-be2b-70592283fc52",
        "colab": {
          "base_uri": "https://localhost:8080/",
          "height": 527
        }
      },
      "source": [
        "#this cell double checks my dataset for any null values. Also gives general info about my df\n",
        "df.info()"
      ],
      "execution_count": 0,
      "outputs": [
        {
          "output_type": "stream",
          "text": [
            "<class 'pandas.core.frame.DataFrame'>\n",
            "RangeIndex: 30000 entries, 0 to 29999\n",
            "Data columns (total 25 columns):\n",
            "CREDIT LIMIT(NT$)             30000 non-null int64\n",
            "GENDER                        30000 non-null int64\n",
            "EDUCATION                     30000 non-null int64\n",
            "MARRIAGE                      30000 non-null int64\n",
            "AGE                           30000 non-null int64\n",
            "PAY_0                         30000 non-null int64\n",
            "PAY_2                         30000 non-null int64\n",
            "PAY_3                         30000 non-null int64\n",
            "PAY_4                         30000 non-null int64\n",
            "PAY_5                         30000 non-null int64\n",
            "PAY_6                         30000 non-null int64\n",
            "Late Payments                 30000 non-null int64\n",
            "BILL_AMT1                     30000 non-null int64\n",
            "BILL_AMT2                     30000 non-null int64\n",
            "BILL_AMT3                     30000 non-null int64\n",
            "BILL_AMT4                     30000 non-null int64\n",
            "BILL_AMT5                     30000 non-null int64\n",
            "BILL_AMT6                     30000 non-null int64\n",
            "PAY_AMT1                      30000 non-null int64\n",
            "PAY_AMT2                      30000 non-null int64\n",
            "PAY_AMT3                      30000 non-null int64\n",
            "PAY_AMT4                      30000 non-null int64\n",
            "PAY_AMT5                      30000 non-null int64\n",
            "PAY_AMT6                      30000 non-null int64\n",
            "default payment next month    30000 non-null int64\n",
            "dtypes: int64(25)\n",
            "memory usage: 5.7 MB\n"
          ],
          "name": "stdout"
        }
      ]
    },
    {
      "cell_type": "code",
      "metadata": {
        "id": "oOIqBBIQonXA",
        "colab_type": "code",
        "colab": {}
      },
      "source": [
        "# Custom function to decode my daaset, specifically pay_0 to pay_6 ----- See markdown cell for column header meaning\n",
        "\n",
        "def decoder(value):\n",
        "    if value > 0 :\n",
        "        return 1\n",
        "    else :\n",
        "        return 0"
      ],
      "execution_count": 0,
      "outputs": []
    },
    {
      "cell_type": "code",
      "metadata": {
        "id": "7FvfmNqVpToF",
        "colab_type": "code",
        "colab": {}
      },
      "source": [
        "#this cell applies my custom function to my dataset (pay_0 to Pay_6)\n",
        "# then it creates a transformed column that tells you how many late payments the customer has made\n",
        "late_payments = df.loc[:,   'PAY_0':'PAY_6'].applymap(decoder).sum(axis=1)\n",
        "df.insert(11,'Late Payments' ,late_payments )\n",
        "df"
      ],
      "execution_count": 0,
      "outputs": []
    },
    {
      "cell_type": "code",
      "metadata": {
        "id": "BHtKOcib1rQa",
        "colab_type": "code",
        "outputId": "e25b7de7-5870-4ffd-aade-30f940188d94",
        "colab": {
          "base_uri": "https://localhost:8080/",
          "height": 34
        }
      },
      "source": [
        "df['GENDER'].unique() # Unique values in the sex column"
      ],
      "execution_count": 0,
      "outputs": [
        {
          "output_type": "execute_result",
          "data": {
            "text/plain": [
              "array([2, 1])"
            ]
          },
          "metadata": {
            "tags": []
          },
          "execution_count": 51
        }
      ]
    },
    {
      "cell_type": "code",
      "metadata": {
        "id": "iexedu4yGVja",
        "colab_type": "code",
        "outputId": "f5155370-65f0-4523-e44d-8ea0a9889288",
        "colab": {
          "base_uri": "https://localhost:8080/",
          "height": 34
        }
      },
      "source": [
        "df['EDUCATION'].unique() # Unique values in the sex column"
      ],
      "execution_count": 0,
      "outputs": [
        {
          "output_type": "execute_result",
          "data": {
            "text/plain": [
              "array([2, 1, 3, 4])"
            ]
          },
          "metadata": {
            "tags": []
          },
          "execution_count": 52
        }
      ]
    },
    {
      "cell_type": "code",
      "metadata": {
        "id": "I2kejmX1G3YP",
        "colab_type": "code",
        "colab": {}
      },
      "source": [
        "# 4,6, and 0 all represents other. \n",
        "# Hence, replace all three (5,6,0) with 4\n",
        "df['EDUCATION']=np.where(df['EDUCATION'] == 5, 4, df['EDUCATION'])\n",
        "df['EDUCATION']=np.where(df['EDUCATION'] == 6, 4, df['EDUCATION'])\n",
        "df['EDUCATION']=np.where(df['EDUCATION'] == 0, 4, df['EDUCATION'])\n"
      ],
      "execution_count": 0,
      "outputs": []
    },
    {
      "cell_type": "code",
      "metadata": {
        "id": "RC3JGCdMGf5i",
        "colab_type": "code",
        "outputId": "2c949320-c2cc-414a-dcf6-6ef7594403e4",
        "colab": {
          "base_uri": "https://localhost:8080/",
          "height": 34
        }
      },
      "source": [
        "df['MARRIAGE'].unique() # Unique values in the marriage column"
      ],
      "execution_count": 0,
      "outputs": [
        {
          "output_type": "execute_result",
          "data": {
            "text/plain": [
              "array([1, 2, 3, 0])"
            ]
          },
          "metadata": {
            "tags": []
          },
          "execution_count": 28
        }
      ]
    },
    {
      "cell_type": "code",
      "metadata": {
        "id": "EAfUKfDINL5J",
        "colab_type": "code",
        "colab": {}
      },
      "source": [
        "# 3 and 0 represent other. \n",
        "# Hence, replace 0 with 3 for other\n",
        "df['MARRIAGE']=np.where(df['MARRIAGE'] == 0, 3, df['MARRIAGE'])"
      ],
      "execution_count": 0,
      "outputs": []
    },
    {
      "cell_type": "markdown",
      "metadata": {
        "id": "hMAdBBOyODFx",
        "colab_type": "text"
      },
      "source": [
        "# PART 1\n",
        "DESCIPTIVE ANALYSIS"
      ]
    },
    {
      "cell_type": "code",
      "metadata": {
        "id": "f_NBHBYWOLXb",
        "colab_type": "code",
        "outputId": "3f96d8bf-5350-4b9d-b991-425c2e01684d",
        "colab": {
          "base_uri": "https://localhost:8080/",
          "height": 334
        }
      },
      "source": [
        "# Lets begin by applying the describe method to our dataframe\n",
        "# list of columns to include \n",
        "df[['CREDIT LIMIT(NT$)', 'AGE','BILL_AMT1', 'BILL_AMT2', 'BILL_AMT3', 'BILL_AMT4', 'BILL_AMT5', 'BILL_AMT6',\n",
        "'PAY_AMT1', 'PAY_AMT2','PAY_AMT3','PAY_AMT4','PAY_AMT5','PAY_AMT6']].describe()\n"
      ],
      "execution_count": 0,
      "outputs": [
        {
          "output_type": "execute_result",
          "data": {
            "text/html": [
              "<div>\n",
              "<style scoped>\n",
              "    .dataframe tbody tr th:only-of-type {\n",
              "        vertical-align: middle;\n",
              "    }\n",
              "\n",
              "    .dataframe tbody tr th {\n",
              "        vertical-align: top;\n",
              "    }\n",
              "\n",
              "    .dataframe thead th {\n",
              "        text-align: right;\n",
              "    }\n",
              "</style>\n",
              "<table border=\"1\" class=\"dataframe\">\n",
              "  <thead>\n",
              "    <tr style=\"text-align: right;\">\n",
              "      <th></th>\n",
              "      <th>CREDIT LIMIT(NT$)</th>\n",
              "      <th>AGE</th>\n",
              "      <th>BILL_AMT1</th>\n",
              "      <th>BILL_AMT2</th>\n",
              "      <th>BILL_AMT3</th>\n",
              "      <th>BILL_AMT4</th>\n",
              "      <th>BILL_AMT5</th>\n",
              "      <th>BILL_AMT6</th>\n",
              "      <th>PAY_AMT1</th>\n",
              "      <th>PAY_AMT2</th>\n",
              "      <th>PAY_AMT3</th>\n",
              "      <th>PAY_AMT4</th>\n",
              "      <th>PAY_AMT5</th>\n",
              "      <th>PAY_AMT6</th>\n",
              "    </tr>\n",
              "  </thead>\n",
              "  <tbody>\n",
              "    <tr>\n",
              "      <th>count</th>\n",
              "      <td>30000.000000</td>\n",
              "      <td>30000.000000</td>\n",
              "      <td>30000.000000</td>\n",
              "      <td>30000.000000</td>\n",
              "      <td>3.000000e+04</td>\n",
              "      <td>30000.000000</td>\n",
              "      <td>30000.000000</td>\n",
              "      <td>30000.000000</td>\n",
              "      <td>30000.000000</td>\n",
              "      <td>3.000000e+04</td>\n",
              "      <td>30000.00000</td>\n",
              "      <td>30000.000000</td>\n",
              "      <td>30000.000000</td>\n",
              "      <td>30000.000000</td>\n",
              "    </tr>\n",
              "    <tr>\n",
              "      <th>mean</th>\n",
              "      <td>167484.322667</td>\n",
              "      <td>35.485500</td>\n",
              "      <td>51223.330900</td>\n",
              "      <td>49179.075167</td>\n",
              "      <td>4.701315e+04</td>\n",
              "      <td>43262.948967</td>\n",
              "      <td>40311.400967</td>\n",
              "      <td>38871.760400</td>\n",
              "      <td>5663.580500</td>\n",
              "      <td>5.921163e+03</td>\n",
              "      <td>5225.68150</td>\n",
              "      <td>4826.076867</td>\n",
              "      <td>4799.387633</td>\n",
              "      <td>5215.502567</td>\n",
              "    </tr>\n",
              "    <tr>\n",
              "      <th>std</th>\n",
              "      <td>129747.661567</td>\n",
              "      <td>9.217904</td>\n",
              "      <td>73635.860576</td>\n",
              "      <td>71173.768783</td>\n",
              "      <td>6.934939e+04</td>\n",
              "      <td>64332.856134</td>\n",
              "      <td>60797.155770</td>\n",
              "      <td>59554.107537</td>\n",
              "      <td>16563.280354</td>\n",
              "      <td>2.304087e+04</td>\n",
              "      <td>17606.96147</td>\n",
              "      <td>15666.159744</td>\n",
              "      <td>15278.305679</td>\n",
              "      <td>17777.465775</td>\n",
              "    </tr>\n",
              "    <tr>\n",
              "      <th>min</th>\n",
              "      <td>10000.000000</td>\n",
              "      <td>21.000000</td>\n",
              "      <td>-165580.000000</td>\n",
              "      <td>-69777.000000</td>\n",
              "      <td>-1.572640e+05</td>\n",
              "      <td>-170000.000000</td>\n",
              "      <td>-81334.000000</td>\n",
              "      <td>-339603.000000</td>\n",
              "      <td>0.000000</td>\n",
              "      <td>0.000000e+00</td>\n",
              "      <td>0.00000</td>\n",
              "      <td>0.000000</td>\n",
              "      <td>0.000000</td>\n",
              "      <td>0.000000</td>\n",
              "    </tr>\n",
              "    <tr>\n",
              "      <th>25%</th>\n",
              "      <td>50000.000000</td>\n",
              "      <td>28.000000</td>\n",
              "      <td>3558.750000</td>\n",
              "      <td>2984.750000</td>\n",
              "      <td>2.666250e+03</td>\n",
              "      <td>2326.750000</td>\n",
              "      <td>1763.000000</td>\n",
              "      <td>1256.000000</td>\n",
              "      <td>1000.000000</td>\n",
              "      <td>8.330000e+02</td>\n",
              "      <td>390.00000</td>\n",
              "      <td>296.000000</td>\n",
              "      <td>252.500000</td>\n",
              "      <td>117.750000</td>\n",
              "    </tr>\n",
              "    <tr>\n",
              "      <th>50%</th>\n",
              "      <td>140000.000000</td>\n",
              "      <td>34.000000</td>\n",
              "      <td>22381.500000</td>\n",
              "      <td>21200.000000</td>\n",
              "      <td>2.008850e+04</td>\n",
              "      <td>19052.000000</td>\n",
              "      <td>18104.500000</td>\n",
              "      <td>17071.000000</td>\n",
              "      <td>2100.000000</td>\n",
              "      <td>2.009000e+03</td>\n",
              "      <td>1800.00000</td>\n",
              "      <td>1500.000000</td>\n",
              "      <td>1500.000000</td>\n",
              "      <td>1500.000000</td>\n",
              "    </tr>\n",
              "    <tr>\n",
              "      <th>75%</th>\n",
              "      <td>240000.000000</td>\n",
              "      <td>41.000000</td>\n",
              "      <td>67091.000000</td>\n",
              "      <td>64006.250000</td>\n",
              "      <td>6.016475e+04</td>\n",
              "      <td>54506.000000</td>\n",
              "      <td>50190.500000</td>\n",
              "      <td>49198.250000</td>\n",
              "      <td>5006.000000</td>\n",
              "      <td>5.000000e+03</td>\n",
              "      <td>4505.00000</td>\n",
              "      <td>4013.250000</td>\n",
              "      <td>4031.500000</td>\n",
              "      <td>4000.000000</td>\n",
              "    </tr>\n",
              "    <tr>\n",
              "      <th>max</th>\n",
              "      <td>1000000.000000</td>\n",
              "      <td>79.000000</td>\n",
              "      <td>964511.000000</td>\n",
              "      <td>983931.000000</td>\n",
              "      <td>1.664089e+06</td>\n",
              "      <td>891586.000000</td>\n",
              "      <td>927171.000000</td>\n",
              "      <td>961664.000000</td>\n",
              "      <td>873552.000000</td>\n",
              "      <td>1.684259e+06</td>\n",
              "      <td>896040.00000</td>\n",
              "      <td>621000.000000</td>\n",
              "      <td>426529.000000</td>\n",
              "      <td>528666.000000</td>\n",
              "    </tr>\n",
              "  </tbody>\n",
              "</table>\n",
              "</div>"
            ],
            "text/plain": [
              "       CREDIT LIMIT(NT$)           AGE  ...       PAY_AMT5       PAY_AMT6\n",
              "count       30000.000000  30000.000000  ...   30000.000000   30000.000000\n",
              "mean       167484.322667     35.485500  ...    4799.387633    5215.502567\n",
              "std        129747.661567      9.217904  ...   15278.305679   17777.465775\n",
              "min         10000.000000     21.000000  ...       0.000000       0.000000\n",
              "25%         50000.000000     28.000000  ...     252.500000     117.750000\n",
              "50%        140000.000000     34.000000  ...    1500.000000    1500.000000\n",
              "75%        240000.000000     41.000000  ...    4031.500000    4000.000000\n",
              "max       1000000.000000     79.000000  ...  426529.000000  528666.000000\n",
              "\n",
              "[8 rows x 14 columns]"
            ]
          },
          "metadata": {
            "tags": []
          },
          "execution_count": 55
        }
      ]
    },
    {
      "cell_type": "markdown",
      "metadata": {
        "id": "q0JDJ3nJS9aV",
        "colab_type": "text"
      },
      "source": [
        "**Age**\n",
        "\n",
        "The cell above tells us that:\n",
        "*   The average age of the credit card holders is 35.5.\n",
        "\n",
        "*   The youngest credit card holder is 21 years old and the oldest is 79 years old\n",
        "\n",
        "\n",
        "*   25 percent of the customers are below 28 years old, and 25% are above 41 years old\n",
        "*   half the customer are above 34 years old\n",
        "\n",
        "\n",
        "**Credit Limit**\n",
        " \n",
        "\n",
        "\n",
        "\n",
        "*   The mean Credit Limit is 167,484.32 NT$\n",
        "\n",
        "\n",
        "\n",
        "\n",
        "*   The highest credit limit issued is 1,000,000 NT$\n",
        "\n",
        "*   The Lowest credit limit issued is 10,000 NT$\n",
        "\n",
        "\n",
        "\n"
      ]
    },
    {
      "cell_type": "code",
      "metadata": {
        "id": "dRkj-r61V735",
        "colab_type": "code",
        "outputId": "764a3a4e-74d2-4776-a731-d78e90c196e9",
        "colab": {
          "base_uri": "https://localhost:8080/",
          "height": 85
        }
      },
      "source": [
        "# What is the relationship between gender and credit limit?\n",
        "# which gender is more likely to have a higher limit on thier credit card?\n",
        "Limit_by_gender = df.groupby('GENDER')['CREDIT LIMIT(NT$)'].mean()\n",
        "Limit_by_gender"
      ],
      "execution_count": 0,
      "outputs": [
        {
          "output_type": "execute_result",
          "data": {
            "text/plain": [
              "GENDER\n",
              "1    163519.825034\n",
              "2    170086.462014\n",
              "Name: CREDIT LIMIT(NT$), dtype: float64"
            ]
          },
          "metadata": {
            "tags": []
          },
          "execution_count": 57
        }
      ]
    },
    {
      "cell_type": "code",
      "metadata": {
        "id": "fcJN_ytfe4da",
        "colab_type": "code",
        "outputId": "a3a33c72-02ac-4dee-e658-fdbd68ea9827",
        "colab": {
          "base_uri": "https://localhost:8080/",
          "height": 369
        }
      },
      "source": [
        "# barplot, count vs gender\n",
        "sns.catplot(x=\"GENDER\", kind=\"count\", palette=\"ch:.25\", data=df);"
      ],
      "execution_count": 0,
      "outputs": [
        {
          "output_type": "display_data",
          "data": {
            "image/png": "[encoded data removed]",
            "text/plain": [
              "<Figure size 360x360 with 1 Axes>"
            ]
          },
          "metadata": {
            "tags": []
          }
        }
      ]
    },
    {
      "cell_type": "code",
      "metadata": {
        "id": "YcI-CSF-e7I5",
        "colab_type": "code",
        "outputId": "6450e8db-1139-42ed-e20b-a4b2a4d8c6b1",
        "colab": {
          "base_uri": "https://localhost:8080/",
          "height": 279
        }
      },
      "source": [
        "# barplot, eduction vs credit limit\n",
        "sns.barplot(x=\"GENDER\", y = \"CREDIT LIMIT(NT$)\", palette=\"ch:.25\", data=df);\n",
        "# from the plot above, we see that there are more female credit card holders than male. \n",
        "# This might account for the slight variation in the mean"
      ],
      "execution_count": 0,
      "outputs": [
        {
          "output_type": "display_data",
          "data": {
            "image/png": "[encoded data removed]",
            "text/plain": [
              "<Figure size 432x288 with 1 Axes>"
            ]
          },
          "metadata": {
            "tags": []
          }
        }
      ]
    },
    {
      "cell_type": "markdown",
      "metadata": {
        "id": "a8vTSHXiYTev",
        "colab_type": "text"
      },
      "source": [
        "1 - male, 2 - female\n",
        "\n",
        "\n",
        "Gender = female; have a mean Limit higher than their male counterpart."
      ]
    },
    {
      "cell_type": "code",
      "metadata": {
        "id": "u89cOQRyYmvX",
        "colab_type": "code",
        "outputId": "df22cecd-3f23-481e-9b37-1d3e45211f6a",
        "colab": {
          "base_uri": "https://localhost:8080/",
          "height": 119
        }
      },
      "source": [
        "#Are people with higher education more likely to recieve higher limit on thier credit cards?\n",
        "Limit_by_edu = df.groupby('EDUCATION')['CREDIT LIMIT(NT$)'].mean().sort_values(ascending = False)\n",
        "Limit_by_edu "
      ],
      "execution_count": 0,
      "outputs": [
        {
          "output_type": "execute_result",
          "data": {
            "text/plain": [
              "EDUCATION\n",
              "1    212956.069910\n",
              "4    181316.239316\n",
              "2    147062.437634\n",
              "3    126550.270490\n",
              "Name: CREDIT LIMIT(NT$), dtype: float64"
            ]
          },
          "metadata": {
            "tags": []
          },
          "execution_count": 67
        }
      ]
    },
    {
      "cell_type": "markdown",
      "metadata": {
        "id": "KvNYEMYEZCZr",
        "colab_type": "text"
      },
      "source": [
        "1 = graduate school, 2 = university, 3 = high school, 4 = others\n",
        "\n",
        "There seems to be a correlation between the limit of a customers credit card to the degree of their eduction. \n",
        "\n",
        "    Note: others is a combination of everything else not included in 1, 2, or 3. Therefore it sits higher on the ranking."
      ]
    },
    {
      "cell_type": "code",
      "metadata": {
        "colab_type": "code",
        "outputId": "8fcad5e6-3f51-43b7-deea-0d174cccd45c",
        "id": "rQJkg-G9cIXL",
        "colab": {
          "base_uri": "https://localhost:8080/",
          "height": 369
        }
      },
      "source": [
        "# barplot, count vs education\n",
        "sns.catplot(x=\"EDUCATION\", kind=\"count\", palette=\"ch:.25\", data=df);"
      ],
      "execution_count": 0,
      "outputs": [
        {
          "output_type": "display_data",
          "data": {
            "image/png": "[encoded data removed]",
            "text/plain": [
              "<Figure size 360x360 with 1 Axes>"
            ]
          },
          "metadata": {
            "tags": []
          }
        }
      ]
    },
    {
      "cell_type": "code",
      "metadata": {
        "id": "hdFeFc4fccJE",
        "colab_type": "code",
        "outputId": "fe6c1622-3f8c-4d74-dd25-241964d7cd9c",
        "colab": {
          "base_uri": "https://localhost:8080/",
          "height": 279
        }
      },
      "source": [
        "# barplot, eduction vs credit limit\n",
        "sns.barplot(x=\"EDUCATION\", y = \"CREDIT LIMIT(NT$)\", palette=\"ch:.25\", data=df);"
      ],
      "execution_count": 0,
      "outputs": [
        {
          "output_type": "display_data",
          "data": {
            "image/png": "[encoded data removed]",
            "text/plain": [
              "<Figure size 432x288 with 1 Axes>"
            ]
          },
          "metadata": {
            "tags": []
          }
        }
      ]
    },
    {
      "cell_type": "code",
      "metadata": {
        "id": "g_Ngq2KgtR1L",
        "colab_type": "code",
        "outputId": "11e21076-bb80-4889-b6a7-26e9cd33d103",
        "colab": {
          "base_uri": "https://localhost:8080/",
          "height": 180
        }
      },
      "source": [
        "df.AGE.plot.box()\n",
        "#has outliers"
      ],
      "execution_count": 0,
      "outputs": [
        {
          "output_type": "error",
          "ename": "NameError",
          "evalue": "ignored",
          "traceback": [
            "\u001b[0;31m---------------------------------------------------------------------------\u001b[0m",
            "\u001b[0;31mNameError\u001b[0m                                 Traceback (most recent call last)",
            "\u001b[0;32m<ipython-input-5-94823536118b>\u001b[0m in \u001b[0;36m<module>\u001b[0;34m()\u001b[0m\n\u001b[0;32m----> 1\u001b[0;31m \u001b[0mdf\u001b[0m\u001b[0;34m.\u001b[0m\u001b[0mAGE\u001b[0m\u001b[0;34m.\u001b[0m\u001b[0mplot\u001b[0m\u001b[0;34m.\u001b[0m\u001b[0mbox\u001b[0m\u001b[0;34m(\u001b[0m\u001b[0;34m)\u001b[0m\u001b[0;34m\u001b[0m\u001b[0;34m\u001b[0m\u001b[0m\n\u001b[0m\u001b[1;32m      2\u001b[0m \u001b[0;31m#has outliers\u001b[0m\u001b[0;34m\u001b[0m\u001b[0;34m\u001b[0m\u001b[0;34m\u001b[0m\u001b[0m\n",
            "\u001b[0;31mNameError\u001b[0m: name 'df' is not defined"
          ]
        }
      ]
    },
    {
      "cell_type": "code",
      "metadata": {
        "id": "ngTKIMZzF3oc",
        "colab_type": "code",
        "colab": {}
      },
      "source": [
        ""
      ],
      "execution_count": 0,
      "outputs": []
    }
  ]
}